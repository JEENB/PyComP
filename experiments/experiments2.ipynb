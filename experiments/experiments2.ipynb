{
 "cells": [
  {
   "cell_type": "code",
   "execution_count": 1,
   "metadata": {},
   "outputs": [
    {
     "name": "stdout",
     "output_type": "stream",
     "text": [
      "65\n"
     ]
    }
   ],
   "source": [
    "from ANS import *\n",
    "from arithmetic_coding import *\n",
    "from huffman import *\n",
    "from sANS import *\n",
    "import time\n",
    "from utils.utils import get_symbols"
   ]
  },
  {
   "cell_type": "code",
   "execution_count": 2,
   "metadata": {},
   "outputs": [],
   "source": [
    "symbols= ['a','b','c','d']\n",
    "dist= {\"Uniform\": [4, 4, 4, 4], # natural powers of two\n",
    "        \"Natural\": [8,4,2,2],\n",
    "        \"Random\": [6,2,8,4],\n",
    "        # \"left\": [16,16,6,4],\n",
    "        # \"right\": [4,4,16,20],\n",
    "        # \"middle\": [6, 24, 24, 6]\n",
    "        }\n",
    "symbol_len = [5,10,20,30]\n",
    "\n",
    "experiment_symbols = {}\n",
    "for name, freq in dist.items():\n",
    "    sym = []\n",
    "    for slen in symbol_len:\n",
    "        sym.append(get_symbols(symbols, freq, slen))\n",
    "    experiment_symbols[name] = sym\n",
    "    \n",
    "# ans = rANS(symbols, frequency)\n",
    "# huff = Huffman(symbols, frequency)\n",
    "# sans = sANS(symbols, frequency)\n",
    "# ari = ArithmeticCoding(symbols, frequency)\n",
    "# ran = RangeCoding(symbols, frequency)\n",
    "\n",
    "encoding_time = {}\n",
    "decoding_time = {}\n",
    "compression_size = {}"
   ]
  },
  {
   "cell_type": "code",
   "execution_count": 3,
   "metadata": {},
   "outputs": [],
   "source": [
    "## Huffman \n",
    "def huffan():\n",
    "\tfor name, freq in dist.items():\n",
    "\t\thuff = Huffman(symbols, freq)\n",
    "\t\texp_symbols = experiment_symbols[name]\n",
    "\t\tenc_time = []\n",
    "\t\tdec_time = []\n",
    "\t\tsize = []\n",
    "\t\tfor s in exp_symbols:\n",
    "\t\t\tstart = time.perf_counter_ns()\n",
    "\t\t\tenc_value, root_node = huff.encode(s)\n",
    "\t\t\tstop = time.perf_counter_ns()\n",
    "\t\t\tenc_time.append(stop-start)\n",
    "\n",
    "\t\t\tsize.append(len(enc_value))\n",
    "\n",
    "\t\t\tdec_start = time.perf_counter_ns()\n",
    "\t\t\tdecoded_val = huff.decode(enc_value, root_node)\n",
    "\t\t\tdec_stop = time.perf_counter_ns()\n",
    "\t\t\tdec_time.append(dec_stop-dec_start)\n",
    "\n",
    "\t\tencoding_time['Huffman@'+name] = enc_time\n",
    "\t\tcompression_size['Huffman@'+name] = size\n",
    "\t\tdecoding_time['Huffman@'+name] = dec_time\n",
    "huffan()\n"
   ]
  },
  {
   "cell_type": "code",
   "execution_count": 4,
   "metadata": {},
   "outputs": [],
   "source": [
    "def rangeans():\n",
    "\tfor name, freq in dist.items():\n",
    "\t\tans = rANS(symbols, freq)\n",
    "\t\texp_symbols = experiment_symbols[name]\n",
    "\t\tenc_time = []\n",
    "\t\tdec_time = []\n",
    "\t\tsize = []\n",
    "\t\tfor s in exp_symbols:\n",
    "\t\t\tstart = time.perf_counter_ns()\n",
    "\t\t\tenc_value, msg_len = ans.encode(s, 0)\n",
    "\t\t\tstop = time.perf_counter_ns()\n",
    "\t\t\tenc_time.append(stop-start)\n",
    "\n",
    "\t\t\tsize.append(len(enc_value))\n",
    "\n",
    "\t\t\tdec_start = time.perf_counter_ns()\n",
    "\t\t\tdecoded_val = ans.decode(enc_value, msg_len)\n",
    "\t\t\tdec_stop = time.perf_counter_ns()\n",
    "\t\t\tdec_time.append(dec_stop-dec_start)\n",
    "\t\tencoding_time['rANS@'+name] = enc_time\n",
    "\t\tcompression_size['rANS@'+name] = size\n",
    "\t\tdecoding_time['rANS@'+name] = dec_time\n",
    "rangeans()"
   ]
  },
  {
   "cell_type": "code",
   "execution_count": 5,
   "metadata": {},
   "outputs": [],
   "source": [
    "def streaming():\n",
    "\tfor name, freq in dist.items():\n",
    "\t\tsans = sANS(symbols, freq)\n",
    "\t\texp_symbols = experiment_symbols[name]\n",
    "\t\tenc_time = []\n",
    "\t\tdec_time = []\n",
    "\t\tsize = []\n",
    "\t\tfor s in exp_symbols:\n",
    "\t\t\tstart = time.perf_counter_ns()\n",
    "\t\t\tenc_value, bit = sans.encode(s)\n",
    "\t\t\tstop = time.perf_counter_ns()\n",
    "\t\t\tenc_time.append(stop-start)\n",
    "\n",
    "\t\t\tsize.append(len(enc_value)+len(bit))\n",
    "\t\t\t\n",
    "\t\t\tdec_start = time.perf_counter_ns()\n",
    "\t\t\tdecoded_val = sans.decode(enc_value,bit)\n",
    "\t\t\tdec_stop = time.perf_counter_ns()\n",
    "\t\t\tdec_time.append(dec_stop-dec_start)\n",
    "\t\tencoding_time['sANS@'+name] = enc_time\n",
    "\t\tcompression_size['sANS@'+name] = size\n",
    "\t\tdecoding_time['sANS@'+name] = dec_time\n",
    "streaming()"
   ]
  },
  {
   "cell_type": "code",
   "execution_count": 6,
   "metadata": {},
   "outputs": [],
   "source": [
    "def arith():\n",
    "\tfor name, freq in dist.items():\n",
    "\t\tsans = ArithmeticCoding(symbols, freq)\n",
    "\t\texp_symbols = experiment_symbols[name]\n",
    "\t\tenc_time = []\n",
    "\t\tdec_time = []\n",
    "\t\tsize = []\n",
    "\t\tfor s in exp_symbols:\n",
    "\t\t\ttry:\n",
    "\t\t\t\tstart = time.perf_counter_ns()\n",
    "\t\t\t\tenc_value, bit = sans.encode(msg = s)\n",
    "\t\t\t\tstop = time.perf_counter_ns()\n",
    "\t\t\t\tenc_time.append(stop-start)\n",
    "\t\t\t\n",
    "\t\t\t\tsize.append(len(enc_value))\n",
    "\t\t\t\t\n",
    "\t\t\t\tdec_start = time.perf_counter_ns()\n",
    "\t\t\t\tdecoded_val = sans.decode(enc_value,bit)\n",
    "\t\t\t\tdec_stop = time.perf_counter_ns()\n",
    "\t\t\t\tdec_time.append(dec_stop-dec_start)\n",
    "\t\t\texcept:\n",
    "\t\t\t\tenc_time.append(math.inf)\n",
    "\t\t\t\tdec_time.append(math.inf)\n",
    "\t\t\t\tsize.append(math.inf)\n",
    "\t\tencoding_time['Arithmetic@'+name] = enc_time\n",
    "\t\tcompression_size['Arithmetic@'+name] = size\n",
    "\t\tdecoding_time['Arithmetic@'+name] = dec_time\n",
    "arith()"
   ]
  },
  {
   "cell_type": "code",
   "execution_count": 7,
   "metadata": {},
   "outputs": [],
   "source": [
    "def aritrang():\n",
    "\tfor name, freq in dist.items():\n",
    "\t\tsans = RangeCoding(symbols, freq)\n",
    "\t\texp_symbols = experiment_symbols[name]\n",
    "\t\tenc_time = []\n",
    "\t\tdec_time = []\n",
    "\t\tsize = []\n",
    "\t\tfor s in exp_symbols:\n",
    "\t\t\ttry:\n",
    "\t\t\t\tstart = time.perf_counter_ns()\n",
    "\t\t\t\tenc_value, bit = sans.encode(msg = s)\n",
    "\t\t\t\tstop = time.perf_counter_ns()\n",
    "\t\t\t\tenc_time.append(stop-start)\n",
    "\t\t\t\n",
    "\t\t\t\tsize.append(len(enc_value))\n",
    "\t\t\t\t\n",
    "\t\t\t\tdec_start = time.perf_counter_ns()\n",
    "\t\t\t\tdecoded_val = sans.decode(enc_value,bit)\n",
    "\t\t\t\tdec_stop = time.perf_counter_ns()\n",
    "\t\t\t\tdec_time.append(dec_stop-dec_start)\n",
    "\t\t\texcept:\n",
    "\t\t\t\tprint(s,freq)\n",
    "\t\t\t\tbreak\n",
    "\t\tencoding_time['Range@'+name] = enc_time\n",
    "\t\tcompression_size['Range@'+name] = size\n",
    "\t\tdecoding_time['Range@'+name] = dec_time\n",
    "aritrang()"
   ]
  },
  {
   "cell_type": "code",
   "execution_count": 8,
   "metadata": {},
   "outputs": [
    {
     "data": {
      "text/plain": [
       "[('Huffman@Uniform', [10, 20, 40, 60]),\n",
       " ('Huffman@Natural', [10, 13, 35, 53]),\n",
       " ('Huffman@Random', [10, 17, 43, 58]),\n",
       " ('rANS@Uniform', [12, 23, 43, 62]),\n",
       " ('rANS@Natural', [13, 16, 36, 52]),\n",
       " ('rANS@Random', [12, 21, 43, 61]),\n",
       " ('sANS@Uniform', [17, 37, 77, 137]),\n",
       " ('sANS@Natural', [17, 30, 65, 118]),\n",
       " ('sANS@Random', [17, 33, 71, 131]),\n",
       " ('Arithmetic@Uniform', [11, 21, 41, inf]),\n",
       " ('Arithmetic@Natural', [11, 14, 36, 54]),\n",
       " ('Arithmetic@Random', [12, 18, 40, inf]),\n",
       " ('Range@Uniform', [8, 17, 38, 58]),\n",
       " ('Range@Natural', [9, 7, 34, 52]),\n",
       " ('Range@Random', [10, 15, 39, 56])]"
      ]
     },
     "execution_count": 8,
     "metadata": {},
     "output_type": "execute_result"
    }
   ],
   "source": [
    "compression_size = list(compression_size.items())\n",
    "encoding_time = list(encoding_time.items())\n",
    "decoding_time = list(decoding_time.items())\n",
    "compression_size"
   ]
  },
  {
   "cell_type": "code",
   "execution_count": 9,
   "metadata": {},
   "outputs": [],
   "source": [
    "comp_df_data = {}\n",
    "for i in range(len(compression_size)):\n",
    "    if i % 3 == 0:\n",
    "        name = compression_size[i][0].split('@')[0]\n",
    "        l1 = compression_size[0+i][1]\n",
    "        l2 = compression_size[1+i][1]\n",
    "        l3 = compression_size[2+i][1]\n",
    "        l4 = list(np.mean(np.array([l1, l2, l3]), axis=0))\n",
    "        comp_df_data[name] = l4\n",
    "        "
   ]
  },
  {
   "cell_type": "code",
   "execution_count": 10,
   "metadata": {},
   "outputs": [],
   "source": [
    "enc_df_data = {}\n",
    "for i in range(len(encoding_time)):\n",
    "    if i % 3 == 0:\n",
    "        name = encoding_time[i][0].split('@')[0]\n",
    "        l1 = encoding_time[0+i][1]\n",
    "        l2 = encoding_time[1+i][1]\n",
    "        l3 = encoding_time[2+i][1]\n",
    "        l4 = list(np.mean(np.array([l1, l2, l3]), axis=0))\n",
    "        enc_df_data[name] = l4"
   ]
  },
  {
   "cell_type": "code",
   "execution_count": 11,
   "metadata": {},
   "outputs": [],
   "source": [
    "dec_df_data = {}\n",
    "for i in range(len(decoding_time)):\n",
    "    if i % 3 == 0:\n",
    "        name = decoding_time[i][0].split('@')[0]\n",
    "        l1 = decoding_time[0+i][1]\n",
    "        l2 = decoding_time[1+i][1]\n",
    "        l3 = decoding_time[2+i][1]\n",
    "        l4 = list(np.mean(np.array([l1, l2, l3]), axis=0))\n",
    "        dec_df_data[name] = l4"
   ]
  },
  {
   "cell_type": "code",
   "execution_count": 15,
   "metadata": {},
   "outputs": [
    {
     "data": {
      "text/html": [
       "<div>\n",
       "<style scoped>\n",
       "    .dataframe tbody tr th:only-of-type {\n",
       "        vertical-align: middle;\n",
       "    }\n",
       "\n",
       "    .dataframe tbody tr th {\n",
       "        vertical-align: top;\n",
       "    }\n",
       "\n",
       "    .dataframe thead th {\n",
       "        text-align: right;\n",
       "    }\n",
       "</style>\n",
       "<table border=\"1\" class=\"dataframe\">\n",
       "  <thead>\n",
       "    <tr style=\"text-align: right;\">\n",
       "      <th></th>\n",
       "      <th>Huffman</th>\n",
       "      <th>rANS</th>\n",
       "      <th>sANS</th>\n",
       "      <th>Arithmetic</th>\n",
       "      <th>Range</th>\n",
       "    </tr>\n",
       "  </thead>\n",
       "  <tbody>\n",
       "    <tr>\n",
       "      <th>0</th>\n",
       "      <td>10.000000</td>\n",
       "      <td>12.333333</td>\n",
       "      <td>17.000000</td>\n",
       "      <td>11.333333</td>\n",
       "      <td>9.000000</td>\n",
       "    </tr>\n",
       "    <tr>\n",
       "      <th>1</th>\n",
       "      <td>16.666667</td>\n",
       "      <td>20.000000</td>\n",
       "      <td>33.333333</td>\n",
       "      <td>17.666667</td>\n",
       "      <td>13.000000</td>\n",
       "    </tr>\n",
       "    <tr>\n",
       "      <th>2</th>\n",
       "      <td>39.333333</td>\n",
       "      <td>40.666667</td>\n",
       "      <td>71.000000</td>\n",
       "      <td>39.000000</td>\n",
       "      <td>37.000000</td>\n",
       "    </tr>\n",
       "    <tr>\n",
       "      <th>3</th>\n",
       "      <td>57.000000</td>\n",
       "      <td>58.333333</td>\n",
       "      <td>128.666667</td>\n",
       "      <td>inf</td>\n",
       "      <td>55.333333</td>\n",
       "    </tr>\n",
       "  </tbody>\n",
       "</table>\n",
       "</div>"
      ],
      "text/plain": [
       "     Huffman       rANS        sANS  Arithmetic      Range\n",
       "0  10.000000  12.333333   17.000000   11.333333   9.000000\n",
       "1  16.666667  20.000000   33.333333   17.666667  13.000000\n",
       "2  39.333333  40.666667   71.000000   39.000000  37.000000\n",
       "3  57.000000  58.333333  128.666667         inf  55.333333"
      ]
     },
     "execution_count": 15,
     "metadata": {},
     "output_type": "execute_result"
    }
   ],
   "source": [
    "ex_time_df = pd.DataFrame.from_dict(enc_df_data)\n",
    "dec_time_df = pd.DataFrame.from_dict(dec_df_data)\n",
    "comp_df = pd.DataFrame.from_dict(comp_df_data)\n",
    "comp_df"
   ]
  },
  {
   "cell_type": "code",
   "execution_count": 18,
   "metadata": {},
   "outputs": [
    {
     "data": {
      "application/vnd.plotly.v1+json": {
       "config": {
        "plotlyServerURL": "https://plot.ly"
       },
       "data": [
        {
         "alignmentgroup": "True",
         "bingroup": "x",
         "histfunc": "sum",
         "hovertemplate": "variable=Huffman<br>x=%{x}<br>sum of value=%{y}<extra></extra>",
         "legendgroup": "Huffman",
         "marker": {
          "color": "#636efa",
          "pattern": {
           "shape": ""
          }
         },
         "name": "Huffman",
         "offsetgroup": "Huffman",
         "orientation": "v",
         "showlegend": true,
         "type": "histogram",
         "x": [
          "0",
          "1",
          "2",
          "3"
         ],
         "xaxis": "x",
         "y": [
          10,
          16.666666666666668,
          39.333333333333336,
          57
         ],
         "yaxis": "y"
        },
        {
         "alignmentgroup": "True",
         "bingroup": "x",
         "histfunc": "sum",
         "hovertemplate": "variable=rANS<br>x=%{x}<br>sum of value=%{y}<extra></extra>",
         "legendgroup": "rANS",
         "marker": {
          "color": "#EF553B",
          "pattern": {
           "shape": ""
          }
         },
         "name": "rANS",
         "offsetgroup": "rANS",
         "orientation": "v",
         "showlegend": true,
         "type": "histogram",
         "x": [
          "0",
          "1",
          "2",
          "3"
         ],
         "xaxis": "x",
         "y": [
          12.333333333333334,
          20,
          40.666666666666664,
          58.333333333333336
         ],
         "yaxis": "y"
        },
        {
         "alignmentgroup": "True",
         "bingroup": "x",
         "histfunc": "sum",
         "hovertemplate": "variable=sANS<br>x=%{x}<br>sum of value=%{y}<extra></extra>",
         "legendgroup": "sANS",
         "marker": {
          "color": "#00cc96",
          "pattern": {
           "shape": ""
          }
         },
         "name": "sANS",
         "offsetgroup": "sANS",
         "orientation": "v",
         "showlegend": true,
         "type": "histogram",
         "x": [
          "0",
          "1",
          "2",
          "3"
         ],
         "xaxis": "x",
         "y": [
          17,
          33.333333333333336,
          71,
          128.66666666666666
         ],
         "yaxis": "y"
        },
        {
         "alignmentgroup": "True",
         "bingroup": "x",
         "histfunc": "sum",
         "hovertemplate": "variable=Arithmetic<br>x=%{x}<br>sum of value=%{y}<extra></extra>",
         "legendgroup": "Arithmetic",
         "marker": {
          "color": "#ab63fa",
          "pattern": {
           "shape": ""
          }
         },
         "name": "Arithmetic",
         "offsetgroup": "Arithmetic",
         "orientation": "v",
         "showlegend": true,
         "type": "histogram",
         "x": [
          "0",
          "1",
          "2",
          "3"
         ],
         "xaxis": "x",
         "y": [
          11.333333333333334,
          17.666666666666668,
          39,
          null
         ],
         "yaxis": "y"
        },
        {
         "alignmentgroup": "True",
         "bingroup": "x",
         "histfunc": "sum",
         "hovertemplate": "variable=Range<br>x=%{x}<br>sum of value=%{y}<extra></extra>",
         "legendgroup": "Range",
         "marker": {
          "color": "#FFA15A",
          "pattern": {
           "shape": ""
          }
         },
         "name": "Range",
         "offsetgroup": "Range",
         "orientation": "v",
         "showlegend": true,
         "type": "histogram",
         "x": [
          "0",
          "1",
          "2",
          "3"
         ],
         "xaxis": "x",
         "y": [
          9,
          13,
          37,
          55.333333333333336
         ],
         "yaxis": "y"
        }
       ],
       "layout": {
        "barmode": "group",
        "legend": {
         "title": {
          "text": "variable"
         },
         "tracegroupgap": 0
        },
        "template": {
         "data": {
          "bar": [
           {
            "error_x": {
             "color": "#2a3f5f"
            },
            "error_y": {
             "color": "#2a3f5f"
            },
            "marker": {
             "line": {
              "color": "#E5ECF6",
              "width": 0.5
             },
             "pattern": {
              "fillmode": "overlay",
              "size": 10,
              "solidity": 0.2
             }
            },
            "type": "bar"
           }
          ],
          "barpolar": [
           {
            "marker": {
             "line": {
              "color": "#E5ECF6",
              "width": 0.5
             },
             "pattern": {
              "fillmode": "overlay",
              "size": 10,
              "solidity": 0.2
             }
            },
            "type": "barpolar"
           }
          ],
          "carpet": [
           {
            "aaxis": {
             "endlinecolor": "#2a3f5f",
             "gridcolor": "white",
             "linecolor": "white",
             "minorgridcolor": "white",
             "startlinecolor": "#2a3f5f"
            },
            "baxis": {
             "endlinecolor": "#2a3f5f",
             "gridcolor": "white",
             "linecolor": "white",
             "minorgridcolor": "white",
             "startlinecolor": "#2a3f5f"
            },
            "type": "carpet"
           }
          ],
          "choropleth": [
           {
            "colorbar": {
             "outlinewidth": 0,
             "ticks": ""
            },
            "type": "choropleth"
           }
          ],
          "contour": [
           {
            "colorbar": {
             "outlinewidth": 0,
             "ticks": ""
            },
            "colorscale": [
             [
              0,
              "#0d0887"
             ],
             [
              0.1111111111111111,
              "#46039f"
             ],
             [
              0.2222222222222222,
              "#7201a8"
             ],
             [
              0.3333333333333333,
              "#9c179e"
             ],
             [
              0.4444444444444444,
              "#bd3786"
             ],
             [
              0.5555555555555556,
              "#d8576b"
             ],
             [
              0.6666666666666666,
              "#ed7953"
             ],
             [
              0.7777777777777778,
              "#fb9f3a"
             ],
             [
              0.8888888888888888,
              "#fdca26"
             ],
             [
              1,
              "#f0f921"
             ]
            ],
            "type": "contour"
           }
          ],
          "contourcarpet": [
           {
            "colorbar": {
             "outlinewidth": 0,
             "ticks": ""
            },
            "type": "contourcarpet"
           }
          ],
          "heatmap": [
           {
            "colorbar": {
             "outlinewidth": 0,
             "ticks": ""
            },
            "colorscale": [
             [
              0,
              "#0d0887"
             ],
             [
              0.1111111111111111,
              "#46039f"
             ],
             [
              0.2222222222222222,
              "#7201a8"
             ],
             [
              0.3333333333333333,
              "#9c179e"
             ],
             [
              0.4444444444444444,
              "#bd3786"
             ],
             [
              0.5555555555555556,
              "#d8576b"
             ],
             [
              0.6666666666666666,
              "#ed7953"
             ],
             [
              0.7777777777777778,
              "#fb9f3a"
             ],
             [
              0.8888888888888888,
              "#fdca26"
             ],
             [
              1,
              "#f0f921"
             ]
            ],
            "type": "heatmap"
           }
          ],
          "heatmapgl": [
           {
            "colorbar": {
             "outlinewidth": 0,
             "ticks": ""
            },
            "colorscale": [
             [
              0,
              "#0d0887"
             ],
             [
              0.1111111111111111,
              "#46039f"
             ],
             [
              0.2222222222222222,
              "#7201a8"
             ],
             [
              0.3333333333333333,
              "#9c179e"
             ],
             [
              0.4444444444444444,
              "#bd3786"
             ],
             [
              0.5555555555555556,
              "#d8576b"
             ],
             [
              0.6666666666666666,
              "#ed7953"
             ],
             [
              0.7777777777777778,
              "#fb9f3a"
             ],
             [
              0.8888888888888888,
              "#fdca26"
             ],
             [
              1,
              "#f0f921"
             ]
            ],
            "type": "heatmapgl"
           }
          ],
          "histogram": [
           {
            "marker": {
             "pattern": {
              "fillmode": "overlay",
              "size": 10,
              "solidity": 0.2
             }
            },
            "type": "histogram"
           }
          ],
          "histogram2d": [
           {
            "colorbar": {
             "outlinewidth": 0,
             "ticks": ""
            },
            "colorscale": [
             [
              0,
              "#0d0887"
             ],
             [
              0.1111111111111111,
              "#46039f"
             ],
             [
              0.2222222222222222,
              "#7201a8"
             ],
             [
              0.3333333333333333,
              "#9c179e"
             ],
             [
              0.4444444444444444,
              "#bd3786"
             ],
             [
              0.5555555555555556,
              "#d8576b"
             ],
             [
              0.6666666666666666,
              "#ed7953"
             ],
             [
              0.7777777777777778,
              "#fb9f3a"
             ],
             [
              0.8888888888888888,
              "#fdca26"
             ],
             [
              1,
              "#f0f921"
             ]
            ],
            "type": "histogram2d"
           }
          ],
          "histogram2dcontour": [
           {
            "colorbar": {
             "outlinewidth": 0,
             "ticks": ""
            },
            "colorscale": [
             [
              0,
              "#0d0887"
             ],
             [
              0.1111111111111111,
              "#46039f"
             ],
             [
              0.2222222222222222,
              "#7201a8"
             ],
             [
              0.3333333333333333,
              "#9c179e"
             ],
             [
              0.4444444444444444,
              "#bd3786"
             ],
             [
              0.5555555555555556,
              "#d8576b"
             ],
             [
              0.6666666666666666,
              "#ed7953"
             ],
             [
              0.7777777777777778,
              "#fb9f3a"
             ],
             [
              0.8888888888888888,
              "#fdca26"
             ],
             [
              1,
              "#f0f921"
             ]
            ],
            "type": "histogram2dcontour"
           }
          ],
          "mesh3d": [
           {
            "colorbar": {
             "outlinewidth": 0,
             "ticks": ""
            },
            "type": "mesh3d"
           }
          ],
          "parcoords": [
           {
            "line": {
             "colorbar": {
              "outlinewidth": 0,
              "ticks": ""
             }
            },
            "type": "parcoords"
           }
          ],
          "pie": [
           {
            "automargin": true,
            "type": "pie"
           }
          ],
          "scatter": [
           {
            "fillpattern": {
             "fillmode": "overlay",
             "size": 10,
             "solidity": 0.2
            },
            "type": "scatter"
           }
          ],
          "scatter3d": [
           {
            "line": {
             "colorbar": {
              "outlinewidth": 0,
              "ticks": ""
             }
            },
            "marker": {
             "colorbar": {
              "outlinewidth": 0,
              "ticks": ""
             }
            },
            "type": "scatter3d"
           }
          ],
          "scattercarpet": [
           {
            "marker": {
             "colorbar": {
              "outlinewidth": 0,
              "ticks": ""
             }
            },
            "type": "scattercarpet"
           }
          ],
          "scattergeo": [
           {
            "marker": {
             "colorbar": {
              "outlinewidth": 0,
              "ticks": ""
             }
            },
            "type": "scattergeo"
           }
          ],
          "scattergl": [
           {
            "marker": {
             "colorbar": {
              "outlinewidth": 0,
              "ticks": ""
             }
            },
            "type": "scattergl"
           }
          ],
          "scattermapbox": [
           {
            "marker": {
             "colorbar": {
              "outlinewidth": 0,
              "ticks": ""
             }
            },
            "type": "scattermapbox"
           }
          ],
          "scatterpolar": [
           {
            "marker": {
             "colorbar": {
              "outlinewidth": 0,
              "ticks": ""
             }
            },
            "type": "scatterpolar"
           }
          ],
          "scatterpolargl": [
           {
            "marker": {
             "colorbar": {
              "outlinewidth": 0,
              "ticks": ""
             }
            },
            "type": "scatterpolargl"
           }
          ],
          "scatterternary": [
           {
            "marker": {
             "colorbar": {
              "outlinewidth": 0,
              "ticks": ""
             }
            },
            "type": "scatterternary"
           }
          ],
          "surface": [
           {
            "colorbar": {
             "outlinewidth": 0,
             "ticks": ""
            },
            "colorscale": [
             [
              0,
              "#0d0887"
             ],
             [
              0.1111111111111111,
              "#46039f"
             ],
             [
              0.2222222222222222,
              "#7201a8"
             ],
             [
              0.3333333333333333,
              "#9c179e"
             ],
             [
              0.4444444444444444,
              "#bd3786"
             ],
             [
              0.5555555555555556,
              "#d8576b"
             ],
             [
              0.6666666666666666,
              "#ed7953"
             ],
             [
              0.7777777777777778,
              "#fb9f3a"
             ],
             [
              0.8888888888888888,
              "#fdca26"
             ],
             [
              1,
              "#f0f921"
             ]
            ],
            "type": "surface"
           }
          ],
          "table": [
           {
            "cells": {
             "fill": {
              "color": "#EBF0F8"
             },
             "line": {
              "color": "white"
             }
            },
            "header": {
             "fill": {
              "color": "#C8D4E3"
             },
             "line": {
              "color": "white"
             }
            },
            "type": "table"
           }
          ]
         },
         "layout": {
          "annotationdefaults": {
           "arrowcolor": "#2a3f5f",
           "arrowhead": 0,
           "arrowwidth": 1
          },
          "autotypenumbers": "strict",
          "coloraxis": {
           "colorbar": {
            "outlinewidth": 0,
            "ticks": ""
           }
          },
          "colorscale": {
           "diverging": [
            [
             0,
             "#8e0152"
            ],
            [
             0.1,
             "#c51b7d"
            ],
            [
             0.2,
             "#de77ae"
            ],
            [
             0.3,
             "#f1b6da"
            ],
            [
             0.4,
             "#fde0ef"
            ],
            [
             0.5,
             "#f7f7f7"
            ],
            [
             0.6,
             "#e6f5d0"
            ],
            [
             0.7,
             "#b8e186"
            ],
            [
             0.8,
             "#7fbc41"
            ],
            [
             0.9,
             "#4d9221"
            ],
            [
             1,
             "#276419"
            ]
           ],
           "sequential": [
            [
             0,
             "#0d0887"
            ],
            [
             0.1111111111111111,
             "#46039f"
            ],
            [
             0.2222222222222222,
             "#7201a8"
            ],
            [
             0.3333333333333333,
             "#9c179e"
            ],
            [
             0.4444444444444444,
             "#bd3786"
            ],
            [
             0.5555555555555556,
             "#d8576b"
            ],
            [
             0.6666666666666666,
             "#ed7953"
            ],
            [
             0.7777777777777778,
             "#fb9f3a"
            ],
            [
             0.8888888888888888,
             "#fdca26"
            ],
            [
             1,
             "#f0f921"
            ]
           ],
           "sequentialminus": [
            [
             0,
             "#0d0887"
            ],
            [
             0.1111111111111111,
             "#46039f"
            ],
            [
             0.2222222222222222,
             "#7201a8"
            ],
            [
             0.3333333333333333,
             "#9c179e"
            ],
            [
             0.4444444444444444,
             "#bd3786"
            ],
            [
             0.5555555555555556,
             "#d8576b"
            ],
            [
             0.6666666666666666,
             "#ed7953"
            ],
            [
             0.7777777777777778,
             "#fb9f3a"
            ],
            [
             0.8888888888888888,
             "#fdca26"
            ],
            [
             1,
             "#f0f921"
            ]
           ]
          },
          "colorway": [
           "#636efa",
           "#EF553B",
           "#00cc96",
           "#ab63fa",
           "#FFA15A",
           "#19d3f3",
           "#FF6692",
           "#B6E880",
           "#FF97FF",
           "#FECB52"
          ],
          "font": {
           "color": "#2a3f5f"
          },
          "geo": {
           "bgcolor": "white",
           "lakecolor": "white",
           "landcolor": "#E5ECF6",
           "showlakes": true,
           "showland": true,
           "subunitcolor": "white"
          },
          "hoverlabel": {
           "align": "left"
          },
          "hovermode": "closest",
          "mapbox": {
           "style": "light"
          },
          "paper_bgcolor": "white",
          "plot_bgcolor": "#E5ECF6",
          "polar": {
           "angularaxis": {
            "gridcolor": "white",
            "linecolor": "white",
            "ticks": ""
           },
           "bgcolor": "#E5ECF6",
           "radialaxis": {
            "gridcolor": "white",
            "linecolor": "white",
            "ticks": ""
           }
          },
          "scene": {
           "xaxis": {
            "backgroundcolor": "#E5ECF6",
            "gridcolor": "white",
            "gridwidth": 2,
            "linecolor": "white",
            "showbackground": true,
            "ticks": "",
            "zerolinecolor": "white"
           },
           "yaxis": {
            "backgroundcolor": "#E5ECF6",
            "gridcolor": "white",
            "gridwidth": 2,
            "linecolor": "white",
            "showbackground": true,
            "ticks": "",
            "zerolinecolor": "white"
           },
           "zaxis": {
            "backgroundcolor": "#E5ECF6",
            "gridcolor": "white",
            "gridwidth": 2,
            "linecolor": "white",
            "showbackground": true,
            "ticks": "",
            "zerolinecolor": "white"
           }
          },
          "shapedefaults": {
           "line": {
            "color": "#2a3f5f"
           }
          },
          "ternary": {
           "aaxis": {
            "gridcolor": "white",
            "linecolor": "white",
            "ticks": ""
           },
           "baxis": {
            "gridcolor": "white",
            "linecolor": "white",
            "ticks": ""
           },
           "bgcolor": "#E5ECF6",
           "caxis": {
            "gridcolor": "white",
            "linecolor": "white",
            "ticks": ""
           }
          },
          "title": {
           "x": 0.05
          },
          "xaxis": {
           "automargin": true,
           "gridcolor": "white",
           "linecolor": "white",
           "ticks": "",
           "title": {
            "standoff": 15
           },
           "zerolinecolor": "white",
           "zerolinewidth": 2
          },
          "yaxis": {
           "automargin": true,
           "gridcolor": "white",
           "linecolor": "white",
           "ticks": "",
           "title": {
            "standoff": 15
           },
           "zerolinecolor": "white",
           "zerolinewidth": 2
          }
         }
        },
        "title": {
         "text": "Comparision: Average Size of Compressed Data"
        },
        "xaxis": {
         "anchor": "y",
         "domain": [
          0,
          1
         ],
         "title": {
          "text": "x"
         }
        },
        "yaxis": {
         "anchor": "x",
         "domain": [
          0,
          1
         ],
         "title": {
          "text": "Average Compressed Data Size"
         }
        }
       }
      }
     },
     "metadata": {},
     "output_type": "display_data"
    }
   ],
   "source": [
    "import plotly.express as px\n",
    "df = comp_df\n",
    "fig = px.histogram(df, x=['0', '1','2', '3'] , y=['Huffman', 'rANS', 'sANS', 'Arithmetic', 'Range'], barmode='group', title=\"Comparision: Average Size of Compressed Data\")\n",
    "fig.update_layout( yaxis_title=\"Average Compressed Data Size\", )\n",
    "\n",
    "fig.show()"
   ]
  },
  {
   "cell_type": "code",
   "execution_count": null,
   "metadata": {},
   "outputs": [],
   "source": [
    "import plotly.express as px\n",
    "df = ex_time_df\n",
    "fig = px.histogram(df, x=\"Compression\", y=\"Average Encoding Time\",\n",
    "             color='Distribuiton', barmode='group',title=\"Comparision: Average Encoding Time\")\n",
    "fig.update_layout( yaxis_title=\"Average Encodng Time (ns)\" )\n",
    "\n",
    "fig.show()"
   ]
  },
  {
   "cell_type": "code",
   "execution_count": null,
   "metadata": {},
   "outputs": [],
   "source": [
    "import plotly.express as px\n",
    "df = dec_time_df\n",
    "fig = px.histogram(df, x=\"Compression\", y=\"Average Decoding Time\",\n",
    "             color='Distribuiton', barmode='group',\n",
    "             title=\"Comparision: Average Decoding Time\")\n",
    "fig.update_layout( yaxis_title=\"Average Decoding Time (ns)\" )\n",
    "\n",
    "fig.show()"
   ]
  },
  {
   "cell_type": "code",
   "execution_count": null,
   "metadata": {},
   "outputs": [],
   "source": []
  }
 ],
 "metadata": {
  "kernelspec": {
   "display_name": "Python 3",
   "language": "python",
   "name": "python3"
  },
  "language_info": {
   "codemirror_mode": {
    "name": "ipython",
    "version": 3
   },
   "file_extension": ".py",
   "mimetype": "text/x-python",
   "name": "python",
   "nbconvert_exporter": "python",
   "pygments_lexer": "ipython3",
   "version": "3.9.6"
  },
  "orig_nbformat": 4
 },
 "nbformat": 4,
 "nbformat_minor": 2
}
