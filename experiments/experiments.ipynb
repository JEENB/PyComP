{
 "cells": [
  {
   "cell_type": "code",
   "execution_count": null,
   "metadata": {},
   "outputs": [],
   "source": [
    "def convert_str_to_list(string:str):\n",
    "\tl= []\n",
    "\tfor s in string:\n",
    "\t\tl.append(s)\n",
    "\treturn l"
   ]
  },
  {
   "cell_type": "code",
   "execution_count": null,
   "metadata": {},
   "outputs": [],
   "source": [
    "## checking at what symbol does the state exceed register size\n",
    "%run utils.py\n",
    "symbols = [0,1,2]\n",
    "frequency = [30,1,30]\n",
    "\n",
    "r = rANS(symbols=symbols, frequency=frequency)\n",
    "output_log = []\n",
    "for i in range(5,50,5):\n",
    "\tencode_sym = utils.get_symbols(symbols, i)\n",
    "\tx = r.rANS_encode(encode_sym)\n",
    "\tx_bin = bin(x)\n",
    "\toutput_log.append((i, x, x_bin, len(x_bin)))\n",
    "print(tabulate.tabulate(output_log, headers= ['Symbol Len', 'C(X)', 'binary rep', 'Size']))\n",
    "\n",
    "\n",
    "\n"
   ]
  },
  {
   "cell_type": "code",
   "execution_count": null,
   "metadata": {},
   "outputs": [],
   "source": [
    "%run uABS.py\n",
    "df = uABS_encoding_table(0.3)\n"
   ]
  },
  {
   "cell_type": "code",
   "execution_count": null,
   "metadata": {},
   "outputs": [],
   "source": [
    "%run ANS.py\n",
    "symbols = ['h', 'e', 'l', 'o', ' ', 'w', 'r', 'd'] \n",
    "frequency = [1, 1, 3, 2, 1, 1, 1, 1]\n",
    "r = rANS(symbols, frequency)\n",
    "encoded_val = r.rANS_encode(convert_str_to_list('hello world'))\n",
    "r.rANS_decode(encoded_val)"
   ]
  },
  {
   "cell_type": "code",
   "execution_count": null,
   "metadata": {},
   "outputs": [],
   "source": [
    "%run ANS.py\n",
    "file_encoder = rANSFileCompressor('./tests/test1.txt')\n",
    "encoded_value = file_encoder.file_encode()\n",
    "print(encoded_value)"
   ]
  },
  {
   "cell_type": "code",
   "execution_count": null,
   "metadata": {},
   "outputs": [],
   "source": [
    "%run ANS.py\n",
    "file_decoder = rANSFileDecompressor(file_encoder.symbols, file_encoder.frequency, encoded_value)\n",
    "file_decoder.file_decode()"
   ]
  },
  {
   "cell_type": "code",
   "execution_count": null,
   "metadata": {},
   "outputs": [],
   "source": [
    "## check the state changes for rans at how many symbols do we reach register limit\n",
    "## check with natural powers of 2 and other distibuiton as well. but more emphasis on the natural power of 2\n",
    "from ANS import *\n",
    "import utils\n",
    "import tabulate\n",
    "from uABS import *\n"
   ]
  },
  {
   "cell_type": "code",
   "execution_count": null,
   "metadata": {},
   "outputs": [],
   "source": [
    "## encoding table test\n",
    "%run utils.py\n",
    "%run ANS.py\n",
    "symbols = ['s_1','s_2', 's_3', 's_4', 's_5'] \n",
    "frequency = [8,4,2,1,1]\n",
    "r = rANS(symbols, frequency)\n",
    "r.rANS_encoding_table(31)"
   ]
  },
  {
   "cell_type": "code",
   "execution_count": 2,
   "metadata": {},
   "outputs": [
    {
     "name": "stdout",
     "output_type": "stream",
     "text": [
      "s_1\n",
      "x_prev = 8, x = 16\n",
      "x_prev = 9, x = 17\n",
      "x_prev = 10, x = 18\n",
      "x_prev = 11, x = 19\n",
      "x_prev = 12, x = 20\n",
      "x_prev = 13, x = 21\n",
      "x_prev = 14, x = 22\n",
      "x_prev = 15, x = 23\n",
      "s_2\n",
      "x_prev = 4, x = 24\n",
      "x_prev = 5, x = 25\n",
      "x_prev = 6, x = 26\n",
      "x_prev = 7, x = 27\n",
      "s_3\n",
      "x_prev = 2, x = 28\n",
      "x_prev = 3, x = 29\n",
      "s_4\n",
      "x_prev = 1, x = 30\n",
      "s_5\n",
      "x_prev = 1, x = 31\n"
     ]
    }
   ],
   "source": [
    "from ANS import *\n",
    "symbols = ['s_1','s_2', 's_3', 's_4', 's_5'] \n",
    "frequency = [8,4,2,1,1]\n",
    "r = rANS(symbols, frequency)\n",
    "y = [\n",
    "    range(8,16), range(4,8), range(2,4), [1], [1]\n",
    "]\n",
    "\n",
    "for i, s in enumerate(symbols):\n",
    "    y_i = y[i]\n",
    "    print(s)\n",
    "    for j in y_i:\n",
    "        print(f\"x_prev = {j}, x = {r.rANS_encode_step(s, j)}\")\n",
    "    "
   ]
  },
  {
   "cell_type": "code",
   "execution_count": null,
   "metadata": {},
   "outputs": [],
   "source": []
  }
 ],
 "metadata": {
  "kernelspec": {
   "display_name": "Python 3 (ipykernel)",
   "language": "python",
   "name": "python3"
  },
  "language_info": {
   "codemirror_mode": {
    "name": "ipython",
    "version": 3
   },
   "file_extension": ".py",
   "mimetype": "text/x-python",
   "name": "python",
   "nbconvert_exporter": "python",
   "pygments_lexer": "ipython3",
   "version": "3.9.6"
  },
  "orig_nbformat": 4,
  "vscode": {
   "interpreter": {
    "hash": "5c7b89af1651d0b8571dde13640ecdccf7d5a6204171d6ab33e7c296e100e08a"
   }
  }
 },
 "nbformat": 4,
 "nbformat_minor": 2
}
